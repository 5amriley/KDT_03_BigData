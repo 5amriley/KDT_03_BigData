{
 "cells": [
  {
   "cell_type": "markdown",
   "id": "aaf5c013",
   "metadata": {},
   "source": [
    "## Jupyter Notebook 사용"
   ]
  },
  {
   "cell_type": "code",
   "execution_count": 1,
   "id": "64412f03",
   "metadata": {},
   "outputs": [
    {
     "name": "stdout",
     "output_type": "stream",
     "text": [
      " C 드라이브의 볼륨에는 이름이 없습니다.\n",
      " 볼륨 일련 번호: CE5B-1C1C\n",
      "\n",
      " C:\\Users\\kdp\\PycharmProjects\\KDT_03_BigData\\EXAM_BIGDATA\\DAY_240129 디렉터리\n",
      "\n",
      "2024-01-29  오전 11:11    <DIR>          .\n",
      "2024-01-29  오전 09:11    <DIR>          ..\n",
      "2024-01-29  오전 11:11    <DIR>          .ipynb_checkpoints\n",
      "2024-01-29  오전 09:20    <DIR>          DATA\n",
      "2024-01-29  오전 11:11            52,133 ex_01_medical_centers.ipynb\n",
      "2024-01-29  오전 11:11                72 Untitled.ipynb\n",
      "               2개 파일              52,205 바이트\n",
      "               4개 디렉터리  137,400,352,768 바이트 남음\n"
     ]
    }
   ],
   "source": [
    "%ls"
   ]
  },
  {
   "cell_type": "code",
   "execution_count": 2,
   "id": "2b2b897b",
   "metadata": {},
   "outputs": [
    {
     "data": {
      "text/plain": [
       "'C:\\\\Users\\\\kdp\\\\PycharmProjects\\\\KDT_03_BigData\\\\EXAM_BIGDATA\\\\DAY_240129'"
      ]
     },
     "execution_count": 2,
     "metadata": {},
     "output_type": "execute_result"
    }
   ],
   "source": [
    "%pwd"
   ]
  },
  {
   "cell_type": "code",
   "execution_count": null,
   "id": "8db7e4da",
   "metadata": {},
   "outputs": [],
   "source": []
  }
 ],
 "metadata": {
  "kernelspec": {
   "display_name": "Python 3 (ipykernel)",
   "language": "python",
   "name": "python3"
  },
  "language_info": {
   "codemirror_mode": {
    "name": "ipython",
    "version": 3
   },
   "file_extension": ".py",
   "mimetype": "text/x-python",
   "name": "python",
   "nbconvert_exporter": "python",
   "pygments_lexer": "ipython3",
   "version": "3.11.5"
  }
 },
 "nbformat": 4,
 "nbformat_minor": 5
}
